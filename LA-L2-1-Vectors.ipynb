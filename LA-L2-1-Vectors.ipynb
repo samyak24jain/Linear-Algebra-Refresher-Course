{
 "cells": [
  {
   "cell_type": "markdown",
   "metadata": {},
   "source": [
    "## VECTORS"
   ]
  },
  {
   "cell_type": "code",
   "execution_count": null,
   "metadata": {
    "collapsed": false
   },
   "outputs": [],
   "source": [
    "# Sum of two vectors\n",
    "function vector_sum(a, b)\n",
    "    a + b\n",
    "end"
   ]
  },
  {
   "cell_type": "code",
   "execution_count": null,
   "metadata": {
    "collapsed": false
   },
   "outputs": [],
   "source": [
    "# Difference of two vectors\n",
    "function vector_diff(a, b)\n",
    "    return a - b\n",
    "end"
   ]
  },
  {
   "cell_type": "code",
   "execution_count": null,
   "metadata": {
    "collapsed": false
   },
   "outputs": [],
   "source": [
    "# Scalar multiplication of a vector\n",
    "function multiply_by_scalar(v, s)\n",
    "    return s * v\n",
    "end"
   ]
  },
  {
   "cell_type": "code",
   "execution_count": null,
   "metadata": {
    "collapsed": false
   },
   "outputs": [],
   "source": [
    "# Magnitude of a vector\n",
    "function vector_magnitude(v)\n",
    "    ans = 0.0\n",
    "    for item in v\n",
    "        ans += item * item\n",
    "    end\n",
    "    return sqrt(ans)\n",
    "end"
   ]
  },
  {
   "cell_type": "code",
   "execution_count": null,
   "metadata": {
    "collapsed": false
   },
   "outputs": [],
   "source": [
    "# Direction of a vector\n",
    "function vector_direction(v)\n",
    "    mag = vector_magnitude(v)\n",
    "    if mag != 0\n",
    "        ans = (1/mag) * v\n",
    "        return ans\n",
    "    else\n",
    "        return [0]\n",
    "    end\n",
    "end"
   ]
  },
  {
   "cell_type": "code",
   "execution_count": null,
   "metadata": {
    "collapsed": false
   },
   "outputs": [],
   "source": [
    "# Dot Product of two vectors\n",
    "function dot_product(v, w)\n",
    "    sum = 0\n",
    "    for i = 1:length(v)\n",
    "        sum = sum + v[i] * w[i]\n",
    "    end\n",
    "    return sum\n",
    "end"
   ]
  },
  {
   "cell_type": "code",
   "execution_count": null,
   "metadata": {
    "collapsed": false
   },
   "outputs": [],
   "source": [
    "# Angle betweeen two vectors in radian\n",
    "function vector_angle_rad(v, w)\n",
    "    vmag = vector_magnitude(v)\n",
    "    wmag = vector_magnitude(w)\n",
    "    vwdot = dot_product(v, w)\n",
    "    return acos(vwdot/(vmag * wmag))\n",
    "end"
   ]
  },
  {
   "cell_type": "code",
   "execution_count": null,
   "metadata": {
    "collapsed": false
   },
   "outputs": [],
   "source": [
    "# Angle between two vectors in degree\n",
    "function vector_angle_deg(v, w)\n",
    "    return vector_angle_rad(v, w) * (180/pi)\n",
    "end"
   ]
  },
  {
   "cell_type": "code",
   "execution_count": null,
   "metadata": {
    "collapsed": false
   },
   "outputs": [],
   "source": [
    "# Check if a vector is a zero vector\n",
    "function is_zero(v, tolerance=1e-10)\n",
    "    if vector_magnitude(v) < tolerance\n",
    "        return true\n",
    "    else\n",
    "        return false\n",
    "    end\n",
    "end"
   ]
  },
  {
   "cell_type": "code",
   "execution_count": null,
   "metadata": {
    "collapsed": false
   },
   "outputs": [],
   "source": [
    "# Check if two vectors are parallel\n",
    "function is_parallel(v, w)\n",
    "    return is_zero(v) || is_zero(w) || vector_angle_rad(v, w) == 0 || vector_angle_rad(v, w) == pi\n",
    "end"
   ]
  },
  {
   "cell_type": "code",
   "execution_count": null,
   "metadata": {
    "collapsed": false
   },
   "outputs": [],
   "source": [
    "# Check if two vectors are orthogonal\n",
    "function is_orthogonal(v, w, tolerance=1e-10)\n",
    "    if dot_product(v, w) < tolerance\n",
    "        return true\n",
    "    else\n",
    "        return false\n",
    "    end\n",
    "end"
   ]
  },
  {
   "cell_type": "code",
   "execution_count": null,
   "metadata": {
    "collapsed": false
   },
   "outputs": [],
   "source": [
    "# Find parallel projection\n",
    "function parallel_proj(v, b)\n",
    "    u_b = vector_direction(b)\n",
    "    ans = multiply_by_scalar(u_b, dot_product(v, u_b))\n",
    "    return ans\n",
    "end"
   ]
  },
  {
   "cell_type": "code",
   "execution_count": null,
   "metadata": {
    "collapsed": false
   },
   "outputs": [],
   "source": [
    "# Find perpendicular projection\n",
    "function perp_proj(v, b)\n",
    "    v_para = parallel_proj(v, b)\n",
    "    v_perp = vector_diff(v, v_para)\n",
    "    return v_perp\n",
    "end"
   ]
  },
  {
   "cell_type": "code",
   "execution_count": null,
   "metadata": {
    "collapsed": false
   },
   "outputs": [],
   "source": [
    "# Find the cross product of two 3-dimensional vectors\n",
    "function cross_product(v, w)\n",
    "    e1 = v[2]*w[3] - w[2]*v[3]\n",
    "    e2 = -(v[1]*w[3] - w[1]*v[3])\n",
    "    e3 = v[1]*w[2] - w[1]*v[2]\n",
    "    ans = [e1, e2, e3]\n",
    "end"
   ]
  },
  {
   "cell_type": "code",
   "execution_count": null,
   "metadata": {
    "collapsed": false
   },
   "outputs": [],
   "source": [
    "# Area of the parallelogram formed by two vectors\n",
    "function area_parallelogram(v, w)\n",
    "    prod = cross_product(v, w)\n",
    "    vector_magnitude(prod)\n",
    "end"
   ]
  },
  {
   "cell_type": "code",
   "execution_count": null,
   "metadata": {
    "collapsed": false
   },
   "outputs": [],
   "source": [
    "# Area of the triangle formed by two vectors\n",
    "function area_triangle(v, w)\n",
    "    0.5 * area_parallelogram(v, w)\n",
    "end"
   ]
  }
 ],
 "metadata": {
  "kernelspec": {
   "display_name": "Julia 1.0.1",
   "language": "julia",
   "name": "julia-1.0"
  },
  "language_info": {
   "file_extension": ".jl",
   "mimetype": "application/julia",
   "name": "julia",
   "version": "1.0.1"
  }
 },
 "nbformat": 4,
 "nbformat_minor": 0
}
